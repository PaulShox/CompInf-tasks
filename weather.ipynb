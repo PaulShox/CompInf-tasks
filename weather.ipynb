{
 "cells": [
  {
   "cell_type": "markdown",
   "metadata": {},
   "source": [
    "# **weather.ipynb**\n",
    "## **A notebook summarising Tasks 1 to 7**\n",
    "## **Author: Paul O'Shaughnessy**"
   ]
  },
  {
   "cell_type": "markdown",
   "metadata": {},
   "source": [
    "### **Task 1: Create Directory Structure**\n",
    "\n",
    "```mkdir -p data/timestamps``` was used. Using -p means the main directory \"data\", and the sub-directory \"timestamps\", get created in one go. If only mkdir had been used, then two commands would have been required:\n",
    "\n",
    "* first to create the parent directory, i.e. ```mkdir data```\n",
    "\n",
    "* second to create the sub-directory, i.e. ```mkdir data/timestamps```\n",
    "\n",
    "As the parent directory was in place, mkdir on its own was sufficient to create the second sub-directory \"weather\":\n",
    "```mkdir data/weather```\n",
    "\n",
    "To get the directortories visible in the Github repository, the Git Commit All and Git Push commands were used. However, the process did not work. A file needed to be created in each sub-directory in order for the Git commands to work. The files were created using the \"touch\" command:\n",
    "\n",
    "* ```touch data/timestamps/test.md```\n",
    "\n",
    "* ```touch data/weather/test.md```"
   ]
  },
  {
   "cell_type": "markdown",
   "metadata": {},
   "source": [
    "### **Task 2: Timestamps**\n",
    "\n",
    "To get into the required sub-directory: ```cd data/timestamps```\n",
    "\n",
    "Used command ```date >> now.txt``` to add a file called now.txt with a timestamp contained within.\n",
    "\n",
    "The ```date >> now.txt``` was copied and then pasted into the command line ten times to have an additional ten timestamps contained in the now.txt file,\n",
    "\n",
    "Command ```more now.txt``` was used to display the timestamps in the now.txt file"
   ]
  },
  {
   "cell_type": "markdown",
   "metadata": {},
   "source": [
    "### **Task 3: Formatting Techniques**\n",
    "\n",
    "Remaining in the data/timestamps directory, entered the following in the command line to add a file called formatted.txt with a formatted date contained within the file:\n",
    "\n",
    "```date +\"%Y%m%d_%H%M%S\" >> formatted.txt```\n",
    "\n",
    "This created the 20241202_201515.txt file"
   ]
  },
  {
   "cell_type": "markdown",
   "metadata": {},
   "source": [
    "### **Task 4: Create Timestamped Files**\n",
    "\n",
    "Remaining in the data/timestamps directory, the following was entered in the command line to create a text file with the date and time as the name of the file:\n",
    "\n",
    "touch `` ` ``date +\"%Y%m%d_%H%M%S.txt\"`` ` ``  \n"
   ]
  },
  {
   "cell_type": "markdown",
   "metadata": {},
   "source": [
    "### **Task 5: Download Today's Weather Data**\n",
    "\n",
    "Typed ```cd ..``` to get back to the data directory\n",
    "\n",
    "Typed ```cd weather``` to get into the weather sub-directory\n",
    "\n",
    "Typed ```wget -- help``` to see if wget was installed, and it was\n",
    "\n",
    "Typed ```wget -O weather.json https://prodapi.metweb.ie/observations/athenry/today``` in the command line\n",
    "\n",
    "The weather.json file then saved in the weather sub-directory\n",
    "\n",
    "\n"
   ]
  },
  {
   "cell_type": "markdown",
   "metadata": {},
   "source": [
    "### **Task 6: Timestamp the Data**\n",
    "\n",
    "Remaining in the weather sub-directory, typed:\n",
    "\n",
    "```wget -O `` ` ``date +\"%Y%m%d_%H%M%S.json\"`` ` `` https://prodapi.metweb.ie/observations/athenry/today```\n",
    "\n",
    "This created the 20241205_163305.json file"
   ]
  },
  {
   "cell_type": "markdown",
   "metadata": {},
   "source": [
    "### **Task 7: Write the Script**\n",
    "\n",
    "Created file weather.sh in the root directory.\n",
    "\n",
    "Opened the weather.sh file and entered ```#! /bin/bash``` in line 1.\n",
    "\n",
    "Then entered ```wget -O `` ` ``date +\"%Y%m%d_%H%M%S.json\"`` ` `` https://prodapi.metweb.ie/observations/athenry/today```\n",
    "\n",
    "Saved the above and then ran ```ls -al``` in the command line. This showed the weather.sh file being saved as ```-rw-rw-rw-```, meaning weather.sh would not run as a command until ameneded.\n",
    "\n",
    "In order to make weather.sh executable, typed ```chmod u+x ./weather.sh``` in the command line.\n",
    "\n",
    "Running ```ls - al``` again, the file now appeared as ```-rwxrw-rw-```, meaning it was now executable.\n",
    "\n",
    "Then typed ```./weather.sh``` in the command line, pressed enter, and the 20241205_170055.json file was created in the data/weather sub-directory.\n",
    "\n"
   ]
  },
  {
   "cell_type": "markdown",
   "metadata": {},
   "source": [
    "### **Task 9: Pandas**"
   ]
  },
  {
   "cell_type": "markdown",
   "metadata": {},
   "source": [
    "## "
   ]
  }
 ],
 "metadata": {
  "kernelspec": {
   "display_name": "base",
   "language": "python",
   "name": "python3"
  },
  "language_info": {
   "name": "python",
   "version": "3.11.5"
  }
 },
 "nbformat": 4,
 "nbformat_minor": 2
}
